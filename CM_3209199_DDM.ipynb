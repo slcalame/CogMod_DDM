{
  "nbformat": 4,
  "nbformat_minor": 0,
  "metadata": {
    "colab": {
      "provenance": []
    },
    "kernelspec": {
      "name": "python3",
      "display_name": "Python 3"
    },
    "language_info": {
      "name": "python"
    },
    "widgets": {
      "application/vnd.jupyter.widget-state+json": {
        "f62fb47ee05d421a96849c25773f18fa": {
          "model_module": "@jupyter-widgets/controls",
          "model_name": "HBoxModel",
          "model_module_version": "1.5.0",
          "state": {
            "_dom_classes": [],
            "_model_module": "@jupyter-widgets/controls",
            "_model_module_version": "1.5.0",
            "_model_name": "HBoxModel",
            "_view_count": null,
            "_view_module": "@jupyter-widgets/controls",
            "_view_module_version": "1.5.0",
            "_view_name": "HBoxView",
            "box_style": "",
            "children": [
              "IPY_MODEL_40a6624ef6d34e0d8e20b39e11773854",
              "IPY_MODEL_ff3bcb4e6784467dbaad0cda830659ea",
              "IPY_MODEL_68be07af470d48838ff91a2ab348af91"
            ],
            "layout": "IPY_MODEL_351badddee45462385f96d23cf62df1b"
          }
        },
        "40a6624ef6d34e0d8e20b39e11773854": {
          "model_module": "@jupyter-widgets/controls",
          "model_name": "VBoxModel",
          "model_module_version": "1.5.0",
          "state": {
            "_dom_classes": [],
            "_model_module": "@jupyter-widgets/controls",
            "_model_module_version": "1.5.0",
            "_model_name": "VBoxModel",
            "_view_count": null,
            "_view_module": "@jupyter-widgets/controls",
            "_view_module_version": "1.5.0",
            "_view_name": "VBoxView",
            "box_style": "",
            "children": [
              "IPY_MODEL_c069747025d4416cba598e617659297a",
              "IPY_MODEL_d960bd58f7824b54ba062aa61bd61b2b",
              "IPY_MODEL_e1fffc92d8e84768ae872a9d57993885"
            ],
            "layout": "IPY_MODEL_55abff06c9104d998a55e38a73fb11cb"
          }
        },
        "ff3bcb4e6784467dbaad0cda830659ea": {
          "model_module": "@jupyter-widgets/controls",
          "model_name": "VBoxModel",
          "model_module_version": "1.5.0",
          "state": {
            "_dom_classes": [],
            "_model_module": "@jupyter-widgets/controls",
            "_model_module_version": "1.5.0",
            "_model_name": "VBoxModel",
            "_view_count": null,
            "_view_module": "@jupyter-widgets/controls",
            "_view_module_version": "1.5.0",
            "_view_name": "VBoxView",
            "box_style": "",
            "children": [],
            "layout": "IPY_MODEL_79a35d986a52425e968cb5bbbbcde53a"
          }
        },
        "68be07af470d48838ff91a2ab348af91": {
          "model_module": "@jupyter-widgets/controls",
          "model_name": "VBoxModel",
          "model_module_version": "1.5.0",
          "state": {
            "_dom_classes": [],
            "_model_module": "@jupyter-widgets/controls",
            "_model_module_version": "1.5.0",
            "_model_name": "VBoxModel",
            "_view_count": null,
            "_view_module": "@jupyter-widgets/controls",
            "_view_module_version": "1.5.0",
            "_view_name": "VBoxView",
            "box_style": "",
            "children": [
              "IPY_MODEL_3a959cbbeaae4583baf00ee278d3e88c",
              "IPY_MODEL_33c30d5ff54a410890c14471bf53ee04",
              "IPY_MODEL_86b1d828e3334470ad4d399ee25d71c2"
            ],
            "layout": "IPY_MODEL_e8a3c409ff9d4ad8b06a5633cea88837"
          }
        },
        "351badddee45462385f96d23cf62df1b": {
          "model_module": "@jupyter-widgets/base",
          "model_name": "LayoutModel",
          "model_module_version": "1.2.0",
          "state": {
            "_model_module": "@jupyter-widgets/base",
            "_model_module_version": "1.2.0",
            "_model_name": "LayoutModel",
            "_view_count": null,
            "_view_module": "@jupyter-widgets/base",
            "_view_module_version": "1.2.0",
            "_view_name": "LayoutView",
            "align_content": null,
            "align_items": null,
            "align_self": null,
            "border": null,
            "bottom": null,
            "display": null,
            "flex": null,
            "flex_flow": null,
            "grid_area": null,
            "grid_auto_columns": null,
            "grid_auto_flow": null,
            "grid_auto_rows": null,
            "grid_column": null,
            "grid_gap": null,
            "grid_row": null,
            "grid_template_areas": null,
            "grid_template_columns": null,
            "grid_template_rows": null,
            "height": null,
            "justify_content": null,
            "justify_items": null,
            "left": null,
            "margin": null,
            "max_height": null,
            "max_width": null,
            "min_height": null,
            "min_width": null,
            "object_fit": null,
            "object_position": null,
            "order": null,
            "overflow": null,
            "overflow_x": null,
            "overflow_y": null,
            "padding": null,
            "right": null,
            "top": null,
            "visibility": null,
            "width": null
          }
        },
        "c069747025d4416cba598e617659297a": {
          "model_module": "@jupyter-widgets/controls",
          "model_name": "FloatSliderModel",
          "model_module_version": "1.5.0",
          "state": {
            "_dom_classes": [],
            "_model_module": "@jupyter-widgets/controls",
            "_model_module_version": "1.5.0",
            "_model_name": "FloatSliderModel",
            "_view_count": null,
            "_view_module": "@jupyter-widgets/controls",
            "_view_module_version": "1.5.0",
            "_view_name": "FloatSliderView",
            "continuous_update": false,
            "description": "drift",
            "description_tooltip": null,
            "disabled": false,
            "layout": "IPY_MODEL_44ff50770ea546ac855b295f6fa8653d",
            "max": 5,
            "min": -5,
            "orientation": "horizontal",
            "readout": true,
            "readout_format": ".2f",
            "step": 0.1,
            "style": "IPY_MODEL_d751d2f97de849938a3530954c844f92",
            "value": -3.775304678804141
          }
        },
        "d960bd58f7824b54ba062aa61bd61b2b": {
          "model_module": "@jupyter-widgets/controls",
          "model_name": "FloatSliderModel",
          "model_module_version": "1.5.0",
          "state": {
            "_dom_classes": [],
            "_model_module": "@jupyter-widgets/controls",
            "_model_module_version": "1.5.0",
            "_model_name": "FloatSliderModel",
            "_view_count": null,
            "_view_module": "@jupyter-widgets/controls",
            "_view_module_version": "1.5.0",
            "_view_name": "FloatSliderView",
            "continuous_update": false,
            "description": "noise",
            "description_tooltip": null,
            "disabled": false,
            "layout": "IPY_MODEL_1e473c4ba8fc4c99b80414a3d424d47a",
            "max": 2,
            "min": 0.1,
            "orientation": "horizontal",
            "readout": true,
            "readout_format": ".2f",
            "step": 0.019,
            "style": "IPY_MODEL_31f34119799e4abeaceec52e829893f0",
            "value": 1.237142410992011
          }
        },
        "e1fffc92d8e84768ae872a9d57993885": {
          "model_module": "@jupyter-widgets/controls",
          "model_name": "FloatSliderModel",
          "model_module_version": "1.5.0",
          "state": {
            "_dom_classes": [],
            "_model_module": "@jupyter-widgets/controls",
            "_model_module_version": "1.5.0",
            "_model_name": "FloatSliderModel",
            "_view_count": null,
            "_view_module": "@jupyter-widgets/controls",
            "_view_module_version": "1.5.0",
            "_view_name": "FloatSliderView",
            "continuous_update": false,
            "description": "nondectime",
            "description_tooltip": null,
            "disabled": false,
            "layout": "IPY_MODEL_a9944653650b435498025054f093dc24",
            "max": 0.5,
            "min": 0,
            "orientation": "horizontal",
            "readout": true,
            "readout_format": ".2f",
            "step": 0.005,
            "style": "IPY_MODEL_5b45d8ca346f43c3b499c0f793f4a7d7",
            "value": 0.3931898565614985
          }
        },
        "55abff06c9104d998a55e38a73fb11cb": {
          "model_module": "@jupyter-widgets/base",
          "model_name": "LayoutModel",
          "model_module_version": "1.2.0",
          "state": {
            "_model_module": "@jupyter-widgets/base",
            "_model_module_version": "1.2.0",
            "_model_name": "LayoutModel",
            "_view_count": null,
            "_view_module": "@jupyter-widgets/base",
            "_view_module_version": "1.2.0",
            "_view_name": "LayoutView",
            "align_content": null,
            "align_items": null,
            "align_self": null,
            "border": null,
            "bottom": null,
            "display": null,
            "flex": null,
            "flex_flow": null,
            "grid_area": null,
            "grid_auto_columns": null,
            "grid_auto_flow": null,
            "grid_auto_rows": null,
            "grid_column": null,
            "grid_gap": null,
            "grid_row": null,
            "grid_template_areas": null,
            "grid_template_columns": null,
            "grid_template_rows": null,
            "height": null,
            "justify_content": null,
            "justify_items": null,
            "left": null,
            "margin": null,
            "max_height": null,
            "max_width": null,
            "min_height": null,
            "min_width": null,
            "object_fit": null,
            "object_position": null,
            "order": null,
            "overflow": null,
            "overflow_x": null,
            "overflow_y": null,
            "padding": null,
            "right": null,
            "top": null,
            "visibility": null,
            "width": null
          }
        },
        "79a35d986a52425e968cb5bbbbcde53a": {
          "model_module": "@jupyter-widgets/base",
          "model_name": "LayoutModel",
          "model_module_version": "1.2.0",
          "state": {
            "_model_module": "@jupyter-widgets/base",
            "_model_module_version": "1.2.0",
            "_model_name": "LayoutModel",
            "_view_count": null,
            "_view_module": "@jupyter-widgets/base",
            "_view_module_version": "1.2.0",
            "_view_name": "LayoutView",
            "align_content": null,
            "align_items": null,
            "align_self": null,
            "border": null,
            "bottom": null,
            "display": null,
            "flex": null,
            "flex_flow": null,
            "grid_area": null,
            "grid_auto_columns": null,
            "grid_auto_flow": null,
            "grid_auto_rows": null,
            "grid_column": null,
            "grid_gap": null,
            "grid_row": null,
            "grid_template_areas": null,
            "grid_template_columns": null,
            "grid_template_rows": null,
            "height": null,
            "justify_content": null,
            "justify_items": null,
            "left": null,
            "margin": null,
            "max_height": null,
            "max_width": null,
            "min_height": null,
            "min_width": null,
            "object_fit": null,
            "object_position": null,
            "order": null,
            "overflow": null,
            "overflow_x": null,
            "overflow_y": null,
            "padding": null,
            "right": null,
            "top": null,
            "visibility": null,
            "width": null
          }
        },
        "3a959cbbeaae4583baf00ee278d3e88c": {
          "model_module": "@jupyter-widgets/controls",
          "model_name": "CheckboxModel",
          "model_module_version": "1.5.0",
          "state": {
            "_dom_classes": [],
            "_model_module": "@jupyter-widgets/controls",
            "_model_module_version": "1.5.0",
            "_model_name": "CheckboxModel",
            "_view_count": null,
            "_view_module": "@jupyter-widgets/controls",
            "_view_module_version": "1.5.0",
            "_view_name": "CheckboxView",
            "description": "Real-time",
            "description_tooltip": null,
            "disabled": false,
            "indent": true,
            "layout": "IPY_MODEL_11f8032ec8834664a4ea413938a69df7",
            "style": "IPY_MODEL_f0eceafa4b2f46a28c42364953bca40f",
            "value": true
          }
        },
        "33c30d5ff54a410890c14471bf53ee04": {
          "model_module": "@jupyter-widgets/controls",
          "model_name": "ButtonModel",
          "model_module_version": "1.5.0",
          "state": {
            "_dom_classes": [],
            "_model_module": "@jupyter-widgets/controls",
            "_model_module_version": "1.5.0",
            "_model_name": "ButtonModel",
            "_view_count": null,
            "_view_module": "@jupyter-widgets/controls",
            "_view_module_version": "1.5.0",
            "_view_name": "ButtonView",
            "button_style": "",
            "description": "Reset to defaults",
            "disabled": false,
            "icon": "",
            "layout": "IPY_MODEL_685898361ea14b07af53119241f88fc2",
            "style": "IPY_MODEL_112a92e6801b4985850d50c978bf0eb5",
            "tooltip": ""
          }
        },
        "86b1d828e3334470ad4d399ee25d71c2": {
          "model_module": "@jupyter-widgets/controls",
          "model_name": "ToggleButtonModel",
          "model_module_version": "1.5.0",
          "state": {
            "_dom_classes": [],
            "_model_module": "@jupyter-widgets/controls",
            "_model_module_version": "1.5.0",
            "_model_name": "ToggleButtonModel",
            "_view_count": null,
            "_view_module": "@jupyter-widgets/controls",
            "_view_module_version": "1.5.0",
            "_view_name": "ToggleButtonView",
            "button_style": "",
            "description": "Update",
            "description_tooltip": null,
            "disabled": false,
            "icon": "",
            "layout": "IPY_MODEL_3d4a656b9b2c4087bd2726df7290717f",
            "style": "IPY_MODEL_81b1b25de6d34fcab8660557604d0ca5",
            "tooltip": "",
            "value": false
          }
        },
        "e8a3c409ff9d4ad8b06a5633cea88837": {
          "model_module": "@jupyter-widgets/base",
          "model_name": "LayoutModel",
          "model_module_version": "1.2.0",
          "state": {
            "_model_module": "@jupyter-widgets/base",
            "_model_module_version": "1.2.0",
            "_model_name": "LayoutModel",
            "_view_count": null,
            "_view_module": "@jupyter-widgets/base",
            "_view_module_version": "1.2.0",
            "_view_name": "LayoutView",
            "align_content": null,
            "align_items": null,
            "align_self": null,
            "border": null,
            "bottom": null,
            "display": null,
            "flex": null,
            "flex_flow": null,
            "grid_area": null,
            "grid_auto_columns": null,
            "grid_auto_flow": null,
            "grid_auto_rows": null,
            "grid_column": null,
            "grid_gap": null,
            "grid_row": null,
            "grid_template_areas": null,
            "grid_template_columns": null,
            "grid_template_rows": null,
            "height": null,
            "justify_content": null,
            "justify_items": null,
            "left": null,
            "margin": null,
            "max_height": null,
            "max_width": null,
            "min_height": null,
            "min_width": null,
            "object_fit": null,
            "object_position": null,
            "order": null,
            "overflow": null,
            "overflow_x": null,
            "overflow_y": null,
            "padding": null,
            "right": null,
            "top": null,
            "visibility": null,
            "width": null
          }
        },
        "44ff50770ea546ac855b295f6fa8653d": {
          "model_module": "@jupyter-widgets/base",
          "model_name": "LayoutModel",
          "model_module_version": "1.2.0",
          "state": {
            "_model_module": "@jupyter-widgets/base",
            "_model_module_version": "1.2.0",
            "_model_name": "LayoutModel",
            "_view_count": null,
            "_view_module": "@jupyter-widgets/base",
            "_view_module_version": "1.2.0",
            "_view_name": "LayoutView",
            "align_content": null,
            "align_items": null,
            "align_self": null,
            "border": null,
            "bottom": null,
            "display": null,
            "flex": null,
            "flex_flow": null,
            "grid_area": null,
            "grid_auto_columns": null,
            "grid_auto_flow": null,
            "grid_auto_rows": null,
            "grid_column": null,
            "grid_gap": null,
            "grid_row": null,
            "grid_template_areas": null,
            "grid_template_columns": null,
            "grid_template_rows": null,
            "height": null,
            "justify_content": null,
            "justify_items": null,
            "left": null,
            "margin": null,
            "max_height": null,
            "max_width": null,
            "min_height": null,
            "min_width": null,
            "object_fit": null,
            "object_position": null,
            "order": null,
            "overflow": null,
            "overflow_x": null,
            "overflow_y": null,
            "padding": null,
            "right": null,
            "top": null,
            "visibility": null,
            "width": null
          }
        },
        "d751d2f97de849938a3530954c844f92": {
          "model_module": "@jupyter-widgets/controls",
          "model_name": "SliderStyleModel",
          "model_module_version": "1.5.0",
          "state": {
            "_model_module": "@jupyter-widgets/controls",
            "_model_module_version": "1.5.0",
            "_model_name": "SliderStyleModel",
            "_view_count": null,
            "_view_module": "@jupyter-widgets/base",
            "_view_module_version": "1.2.0",
            "_view_name": "StyleView",
            "description_width": "",
            "handle_color": null
          }
        },
        "1e473c4ba8fc4c99b80414a3d424d47a": {
          "model_module": "@jupyter-widgets/base",
          "model_name": "LayoutModel",
          "model_module_version": "1.2.0",
          "state": {
            "_model_module": "@jupyter-widgets/base",
            "_model_module_version": "1.2.0",
            "_model_name": "LayoutModel",
            "_view_count": null,
            "_view_module": "@jupyter-widgets/base",
            "_view_module_version": "1.2.0",
            "_view_name": "LayoutView",
            "align_content": null,
            "align_items": null,
            "align_self": null,
            "border": null,
            "bottom": null,
            "display": null,
            "flex": null,
            "flex_flow": null,
            "grid_area": null,
            "grid_auto_columns": null,
            "grid_auto_flow": null,
            "grid_auto_rows": null,
            "grid_column": null,
            "grid_gap": null,
            "grid_row": null,
            "grid_template_areas": null,
            "grid_template_columns": null,
            "grid_template_rows": null,
            "height": null,
            "justify_content": null,
            "justify_items": null,
            "left": null,
            "margin": null,
            "max_height": null,
            "max_width": null,
            "min_height": null,
            "min_width": null,
            "object_fit": null,
            "object_position": null,
            "order": null,
            "overflow": null,
            "overflow_x": null,
            "overflow_y": null,
            "padding": null,
            "right": null,
            "top": null,
            "visibility": null,
            "width": null
          }
        },
        "31f34119799e4abeaceec52e829893f0": {
          "model_module": "@jupyter-widgets/controls",
          "model_name": "SliderStyleModel",
          "model_module_version": "1.5.0",
          "state": {
            "_model_module": "@jupyter-widgets/controls",
            "_model_module_version": "1.5.0",
            "_model_name": "SliderStyleModel",
            "_view_count": null,
            "_view_module": "@jupyter-widgets/base",
            "_view_module_version": "1.2.0",
            "_view_name": "StyleView",
            "description_width": "",
            "handle_color": null
          }
        },
        "a9944653650b435498025054f093dc24": {
          "model_module": "@jupyter-widgets/base",
          "model_name": "LayoutModel",
          "model_module_version": "1.2.0",
          "state": {
            "_model_module": "@jupyter-widgets/base",
            "_model_module_version": "1.2.0",
            "_model_name": "LayoutModel",
            "_view_count": null,
            "_view_module": "@jupyter-widgets/base",
            "_view_module_version": "1.2.0",
            "_view_name": "LayoutView",
            "align_content": null,
            "align_items": null,
            "align_self": null,
            "border": null,
            "bottom": null,
            "display": null,
            "flex": null,
            "flex_flow": null,
            "grid_area": null,
            "grid_auto_columns": null,
            "grid_auto_flow": null,
            "grid_auto_rows": null,
            "grid_column": null,
            "grid_gap": null,
            "grid_row": null,
            "grid_template_areas": null,
            "grid_template_columns": null,
            "grid_template_rows": null,
            "height": null,
            "justify_content": null,
            "justify_items": null,
            "left": null,
            "margin": null,
            "max_height": null,
            "max_width": null,
            "min_height": null,
            "min_width": null,
            "object_fit": null,
            "object_position": null,
            "order": null,
            "overflow": null,
            "overflow_x": null,
            "overflow_y": null,
            "padding": null,
            "right": null,
            "top": null,
            "visibility": null,
            "width": null
          }
        },
        "5b45d8ca346f43c3b499c0f793f4a7d7": {
          "model_module": "@jupyter-widgets/controls",
          "model_name": "SliderStyleModel",
          "model_module_version": "1.5.0",
          "state": {
            "_model_module": "@jupyter-widgets/controls",
            "_model_module_version": "1.5.0",
            "_model_name": "SliderStyleModel",
            "_view_count": null,
            "_view_module": "@jupyter-widgets/base",
            "_view_module_version": "1.2.0",
            "_view_name": "StyleView",
            "description_width": "",
            "handle_color": null
          }
        },
        "11f8032ec8834664a4ea413938a69df7": {
          "model_module": "@jupyter-widgets/base",
          "model_name": "LayoutModel",
          "model_module_version": "1.2.0",
          "state": {
            "_model_module": "@jupyter-widgets/base",
            "_model_module_version": "1.2.0",
            "_model_name": "LayoutModel",
            "_view_count": null,
            "_view_module": "@jupyter-widgets/base",
            "_view_module_version": "1.2.0",
            "_view_name": "LayoutView",
            "align_content": null,
            "align_items": null,
            "align_self": null,
            "border": null,
            "bottom": null,
            "display": null,
            "flex": null,
            "flex_flow": null,
            "grid_area": null,
            "grid_auto_columns": null,
            "grid_auto_flow": null,
            "grid_auto_rows": null,
            "grid_column": null,
            "grid_gap": null,
            "grid_row": null,
            "grid_template_areas": null,
            "grid_template_columns": null,
            "grid_template_rows": null,
            "height": null,
            "justify_content": null,
            "justify_items": null,
            "left": null,
            "margin": null,
            "max_height": null,
            "max_width": null,
            "min_height": null,
            "min_width": null,
            "object_fit": null,
            "object_position": null,
            "order": null,
            "overflow": null,
            "overflow_x": null,
            "overflow_y": null,
            "padding": null,
            "right": null,
            "top": null,
            "visibility": null,
            "width": null
          }
        },
        "f0eceafa4b2f46a28c42364953bca40f": {
          "model_module": "@jupyter-widgets/controls",
          "model_name": "DescriptionStyleModel",
          "model_module_version": "1.5.0",
          "state": {
            "_model_module": "@jupyter-widgets/controls",
            "_model_module_version": "1.5.0",
            "_model_name": "DescriptionStyleModel",
            "_view_count": null,
            "_view_module": "@jupyter-widgets/base",
            "_view_module_version": "1.2.0",
            "_view_name": "StyleView",
            "description_width": ""
          }
        },
        "685898361ea14b07af53119241f88fc2": {
          "model_module": "@jupyter-widgets/base",
          "model_name": "LayoutModel",
          "model_module_version": "1.2.0",
          "state": {
            "_model_module": "@jupyter-widgets/base",
            "_model_module_version": "1.2.0",
            "_model_name": "LayoutModel",
            "_view_count": null,
            "_view_module": "@jupyter-widgets/base",
            "_view_module_version": "1.2.0",
            "_view_name": "LayoutView",
            "align_content": null,
            "align_items": null,
            "align_self": null,
            "border": null,
            "bottom": null,
            "display": null,
            "flex": null,
            "flex_flow": null,
            "grid_area": null,
            "grid_auto_columns": null,
            "grid_auto_flow": null,
            "grid_auto_rows": null,
            "grid_column": null,
            "grid_gap": null,
            "grid_row": null,
            "grid_template_areas": null,
            "grid_template_columns": null,
            "grid_template_rows": null,
            "height": null,
            "justify_content": null,
            "justify_items": null,
            "left": null,
            "margin": null,
            "max_height": null,
            "max_width": null,
            "min_height": null,
            "min_width": null,
            "object_fit": null,
            "object_position": null,
            "order": null,
            "overflow": null,
            "overflow_x": null,
            "overflow_y": null,
            "padding": null,
            "right": null,
            "top": null,
            "visibility": null,
            "width": null
          }
        },
        "112a92e6801b4985850d50c978bf0eb5": {
          "model_module": "@jupyter-widgets/controls",
          "model_name": "ButtonStyleModel",
          "model_module_version": "1.5.0",
          "state": {
            "_model_module": "@jupyter-widgets/controls",
            "_model_module_version": "1.5.0",
            "_model_name": "ButtonStyleModel",
            "_view_count": null,
            "_view_module": "@jupyter-widgets/base",
            "_view_module_version": "1.2.0",
            "_view_name": "StyleView",
            "button_color": null,
            "font_weight": ""
          }
        },
        "3d4a656b9b2c4087bd2726df7290717f": {
          "model_module": "@jupyter-widgets/base",
          "model_name": "LayoutModel",
          "model_module_version": "1.2.0",
          "state": {
            "_model_module": "@jupyter-widgets/base",
            "_model_module_version": "1.2.0",
            "_model_name": "LayoutModel",
            "_view_count": null,
            "_view_module": "@jupyter-widgets/base",
            "_view_module_version": "1.2.0",
            "_view_name": "LayoutView",
            "align_content": null,
            "align_items": null,
            "align_self": null,
            "border": null,
            "bottom": null,
            "display": null,
            "flex": null,
            "flex_flow": null,
            "grid_area": null,
            "grid_auto_columns": null,
            "grid_auto_flow": null,
            "grid_auto_rows": null,
            "grid_column": null,
            "grid_gap": null,
            "grid_row": null,
            "grid_template_areas": null,
            "grid_template_columns": null,
            "grid_template_rows": null,
            "height": null,
            "justify_content": null,
            "justify_items": null,
            "left": null,
            "margin": null,
            "max_height": null,
            "max_width": null,
            "min_height": null,
            "min_width": null,
            "object_fit": null,
            "object_position": null,
            "order": null,
            "overflow": null,
            "overflow_x": null,
            "overflow_y": null,
            "padding": null,
            "right": null,
            "top": null,
            "visibility": null,
            "width": null
          }
        },
        "81b1b25de6d34fcab8660557604d0ca5": {
          "model_module": "@jupyter-widgets/controls",
          "model_name": "DescriptionStyleModel",
          "model_module_version": "1.5.0",
          "state": {
            "_model_module": "@jupyter-widgets/controls",
            "_model_module_version": "1.5.0",
            "_model_name": "DescriptionStyleModel",
            "_view_count": null,
            "_view_module": "@jupyter-widgets/base",
            "_view_module_version": "1.2.0",
            "_view_name": "StyleView",
            "description_width": ""
          }
        },
        "ec1423b81f564df3bad03c89a815e26c": {
          "model_module": "@jupyter-widgets/output",
          "model_name": "OutputModel",
          "model_module_version": "1.0.0",
          "state": {
            "_dom_classes": [],
            "_model_module": "@jupyter-widgets/output",
            "_model_module_version": "1.0.0",
            "_model_name": "OutputModel",
            "_view_count": null,
            "_view_module": "@jupyter-widgets/output",
            "_view_module_version": "1.0.0",
            "_view_name": "OutputView",
            "layout": "IPY_MODEL_1dd7a437d88e43129b1a4f71278ba152",
            "msg_id": "",
            "outputs": [
              {
                "output_type": "display_data",
                "data": {
                  "text/plain": "<Figure size 640x480 with 2 Axes>",
                  "image/png": "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\n"
                },
                "metadata": {}
              }
            ]
          }
        },
        "1dd7a437d88e43129b1a4f71278ba152": {
          "model_module": "@jupyter-widgets/base",
          "model_name": "LayoutModel",
          "model_module_version": "1.2.0",
          "state": {
            "_model_module": "@jupyter-widgets/base",
            "_model_module_version": "1.2.0",
            "_model_name": "LayoutModel",
            "_view_count": null,
            "_view_module": "@jupyter-widgets/base",
            "_view_module_version": "1.2.0",
            "_view_name": "LayoutView",
            "align_content": null,
            "align_items": null,
            "align_self": null,
            "border": null,
            "bottom": null,
            "display": null,
            "flex": null,
            "flex_flow": null,
            "grid_area": null,
            "grid_auto_columns": null,
            "grid_auto_flow": null,
            "grid_auto_rows": null,
            "grid_column": null,
            "grid_gap": null,
            "grid_row": null,
            "grid_template_areas": null,
            "grid_template_columns": null,
            "grid_template_rows": null,
            "height": null,
            "justify_content": null,
            "justify_items": null,
            "left": null,
            "margin": null,
            "max_height": null,
            "max_width": null,
            "min_height": null,
            "min_width": null,
            "object_fit": null,
            "object_position": null,
            "order": null,
            "overflow": null,
            "overflow_x": null,
            "overflow_y": null,
            "padding": null,
            "right": null,
            "top": null,
            "visibility": null,
            "width": null
          }
        },
        "eef848a06e444ac3a252e5e83eb08cd2": {
          "model_module": "@jupyter-widgets/controls",
          "model_name": "HBoxModel",
          "model_module_version": "1.5.0",
          "state": {
            "_dom_classes": [],
            "_model_module": "@jupyter-widgets/controls",
            "_model_module_version": "1.5.0",
            "_model_name": "HBoxModel",
            "_view_count": null,
            "_view_module": "@jupyter-widgets/controls",
            "_view_module_version": "1.5.0",
            "_view_name": "HBoxView",
            "box_style": "",
            "children": [
              "IPY_MODEL_44349ddc86a9441b9fd1396b5a6b2501",
              "IPY_MODEL_f0160a47bcb5461a986a9d4300e81e34",
              "IPY_MODEL_35bbdf01048945cf800e737df45aa481"
            ],
            "layout": "IPY_MODEL_5958c51352424e9cbb3b236302a86bce"
          }
        },
        "44349ddc86a9441b9fd1396b5a6b2501": {
          "model_module": "@jupyter-widgets/controls",
          "model_name": "VBoxModel",
          "model_module_version": "1.5.0",
          "state": {
            "_dom_classes": [],
            "_model_module": "@jupyter-widgets/controls",
            "_model_module_version": "1.5.0",
            "_model_name": "VBoxModel",
            "_view_count": null,
            "_view_module": "@jupyter-widgets/controls",
            "_view_module_version": "1.5.0",
            "_view_name": "VBoxView",
            "box_style": "",
            "children": [
              "IPY_MODEL_6eba63ec667b44d6b685586a59ed464c",
              "IPY_MODEL_4f3dc83bfc45484b8b3313e769f0e54e",
              "IPY_MODEL_79659633f97e43a790e778b74781e022",
              "IPY_MODEL_9e19ee1864fe4edca4c83494a07dc397"
            ],
            "layout": "IPY_MODEL_87c77dc19a1c479099d82436d6b8154f"
          }
        },
        "f0160a47bcb5461a986a9d4300e81e34": {
          "model_module": "@jupyter-widgets/controls",
          "model_name": "VBoxModel",
          "model_module_version": "1.5.0",
          "state": {
            "_dom_classes": [],
            "_model_module": "@jupyter-widgets/controls",
            "_model_module_version": "1.5.0",
            "_model_name": "VBoxModel",
            "_view_count": null,
            "_view_module": "@jupyter-widgets/controls",
            "_view_module_version": "1.5.0",
            "_view_name": "VBoxView",
            "box_style": "",
            "children": [
              "IPY_MODEL_de87e581b4c4408382abceef9ae9ea47"
            ],
            "layout": "IPY_MODEL_61b9b227c2834e39843300c5fda47a13"
          }
        },
        "35bbdf01048945cf800e737df45aa481": {
          "model_module": "@jupyter-widgets/controls",
          "model_name": "VBoxModel",
          "model_module_version": "1.5.0",
          "state": {
            "_dom_classes": [],
            "_model_module": "@jupyter-widgets/controls",
            "_model_module_version": "1.5.0",
            "_model_name": "VBoxModel",
            "_view_count": null,
            "_view_module": "@jupyter-widgets/controls",
            "_view_module_version": "1.5.0",
            "_view_name": "VBoxView",
            "box_style": "",
            "children": [
              "IPY_MODEL_4041143c2b3447daaac42c8a21674af3",
              "IPY_MODEL_2902ccdfada14f51a6afcee186e76bc6",
              "IPY_MODEL_305830f0eed748e5ab9175d8a02a158f"
            ],
            "layout": "IPY_MODEL_b8fc6977479f40be8e5d8a356e927e96"
          }
        },
        "5958c51352424e9cbb3b236302a86bce": {
          "model_module": "@jupyter-widgets/base",
          "model_name": "LayoutModel",
          "model_module_version": "1.2.0",
          "state": {
            "_model_module": "@jupyter-widgets/base",
            "_model_module_version": "1.2.0",
            "_model_name": "LayoutModel",
            "_view_count": null,
            "_view_module": "@jupyter-widgets/base",
            "_view_module_version": "1.2.0",
            "_view_name": "LayoutView",
            "align_content": null,
            "align_items": null,
            "align_self": null,
            "border": null,
            "bottom": null,
            "display": null,
            "flex": null,
            "flex_flow": null,
            "grid_area": null,
            "grid_auto_columns": null,
            "grid_auto_flow": null,
            "grid_auto_rows": null,
            "grid_column": null,
            "grid_gap": null,
            "grid_row": null,
            "grid_template_areas": null,
            "grid_template_columns": null,
            "grid_template_rows": null,
            "height": null,
            "justify_content": null,
            "justify_items": null,
            "left": null,
            "margin": null,
            "max_height": null,
            "max_width": null,
            "min_height": null,
            "min_width": null,
            "object_fit": null,
            "object_position": null,
            "order": null,
            "overflow": null,
            "overflow_x": null,
            "overflow_y": null,
            "padding": null,
            "right": null,
            "top": null,
            "visibility": null,
            "width": null
          }
        },
        "6eba63ec667b44d6b685586a59ed464c": {
          "model_module": "@jupyter-widgets/controls",
          "model_name": "FloatSliderModel",
          "model_module_version": "1.5.0",
          "state": {
            "_dom_classes": [],
            "_model_module": "@jupyter-widgets/controls",
            "_model_module_version": "1.5.0",
            "_model_name": "FloatSliderModel",
            "_view_count": null,
            "_view_module": "@jupyter-widgets/controls",
            "_view_module_version": "1.5.0",
            "_view_name": "FloatSliderView",
            "continuous_update": false,
            "description": "drift_present",
            "description_tooltip": null,
            "disabled": false,
            "layout": "IPY_MODEL_036d525d16354b57a7344f6d3d7f0626",
            "max": 5,
            "min": -5,
            "orientation": "horizontal",
            "readout": true,
            "readout_format": ".2f",
            "step": 0.1,
            "style": "IPY_MODEL_fab060d1e0ac416d8ba4c2c6be85def6",
            "value": 0.8635184224255257
          }
        },
        "4f3dc83bfc45484b8b3313e769f0e54e": {
          "model_module": "@jupyter-widgets/controls",
          "model_name": "FloatSliderModel",
          "model_module_version": "1.5.0",
          "state": {
            "_dom_classes": [],
            "_model_module": "@jupyter-widgets/controls",
            "_model_module_version": "1.5.0",
            "_model_name": "FloatSliderModel",
            "_view_count": null,
            "_view_module": "@jupyter-widgets/controls",
            "_view_module_version": "1.5.0",
            "_view_name": "FloatSliderView",
            "continuous_update": false,
            "description": "drift_absent",
            "description_tooltip": null,
            "disabled": false,
            "layout": "IPY_MODEL_26c1f901bc384bcfa1b6e1885a7ead8c",
            "max": 5,
            "min": -5,
            "orientation": "horizontal",
            "readout": true,
            "readout_format": ".2f",
            "step": 0.1,
            "style": "IPY_MODEL_d053fa462e0b497ab80c7eee48e7d4c7",
            "value": -3.4922021191946344
          }
        },
        "79659633f97e43a790e778b74781e022": {
          "model_module": "@jupyter-widgets/controls",
          "model_name": "FloatSliderModel",
          "model_module_version": "1.5.0",
          "state": {
            "_dom_classes": [],
            "_model_module": "@jupyter-widgets/controls",
            "_model_module_version": "1.5.0",
            "_model_name": "FloatSliderModel",
            "_view_count": null,
            "_view_module": "@jupyter-widgets/controls",
            "_view_module_version": "1.5.0",
            "_view_name": "FloatSliderView",
            "continuous_update": false,
            "description": "noise",
            "description_tooltip": null,
            "disabled": false,
            "layout": "IPY_MODEL_8c3dace3bfc94130ba85051c09f68d7d",
            "max": 2,
            "min": 0.1,
            "orientation": "horizontal",
            "readout": true,
            "readout_format": ".2f",
            "step": 0.019,
            "style": "IPY_MODEL_f942bf8b3ecb4cb8954ba9750a4c929b",
            "value": 1.644592559774717
          }
        },
        "9e19ee1864fe4edca4c83494a07dc397": {
          "model_module": "@jupyter-widgets/controls",
          "model_name": "FloatSliderModel",
          "model_module_version": "1.5.0",
          "state": {
            "_dom_classes": [],
            "_model_module": "@jupyter-widgets/controls",
            "_model_module_version": "1.5.0",
            "_model_name": "FloatSliderModel",
            "_view_count": null,
            "_view_module": "@jupyter-widgets/controls",
            "_view_module_version": "1.5.0",
            "_view_name": "FloatSliderView",
            "continuous_update": false,
            "description": "nondectime",
            "description_tooltip": null,
            "disabled": false,
            "layout": "IPY_MODEL_2cf03339ec0144dabb44e6bbd810edfc",
            "max": 0.5,
            "min": 0,
            "orientation": "horizontal",
            "readout": true,
            "readout_format": ".2f",
            "step": 0.005,
            "style": "IPY_MODEL_395c96305ebf47a7a496ae7ddf0cf862",
            "value": 0.1363388022349744
          }
        },
        "87c77dc19a1c479099d82436d6b8154f": {
          "model_module": "@jupyter-widgets/base",
          "model_name": "LayoutModel",
          "model_module_version": "1.2.0",
          "state": {
            "_model_module": "@jupyter-widgets/base",
            "_model_module_version": "1.2.0",
            "_model_name": "LayoutModel",
            "_view_count": null,
            "_view_module": "@jupyter-widgets/base",
            "_view_module_version": "1.2.0",
            "_view_name": "LayoutView",
            "align_content": null,
            "align_items": null,
            "align_self": null,
            "border": null,
            "bottom": null,
            "display": null,
            "flex": null,
            "flex_flow": null,
            "grid_area": null,
            "grid_auto_columns": null,
            "grid_auto_flow": null,
            "grid_auto_rows": null,
            "grid_column": null,
            "grid_gap": null,
            "grid_row": null,
            "grid_template_areas": null,
            "grid_template_columns": null,
            "grid_template_rows": null,
            "height": null,
            "justify_content": null,
            "justify_items": null,
            "left": null,
            "margin": null,
            "max_height": null,
            "max_width": null,
            "min_height": null,
            "min_width": null,
            "object_fit": null,
            "object_position": null,
            "order": null,
            "overflow": null,
            "overflow_x": null,
            "overflow_y": null,
            "padding": null,
            "right": null,
            "top": null,
            "visibility": null,
            "width": null
          }
        },
        "de87e581b4c4408382abceef9ae9ea47": {
          "model_module": "@jupyter-widgets/controls",
          "model_name": "DropdownModel",
          "model_module_version": "1.5.0",
          "state": {
            "_dom_classes": [],
            "_model_module": "@jupyter-widgets/controls",
            "_model_module_version": "1.5.0",
            "_model_name": "DropdownModel",
            "_options_labels": [
              "All",
              "absent",
              "present"
            ],
            "_view_count": null,
            "_view_module": "@jupyter-widgets/controls",
            "_view_module_version": "1.5.0",
            "_view_name": "DropdownView",
            "description": "distractor",
            "description_tooltip": null,
            "disabled": false,
            "index": 0,
            "layout": "IPY_MODEL_416d496a44c942279b2c9898f7750264",
            "style": "IPY_MODEL_a802de7cd2434f0ca8ee8780aadca6c9"
          }
        },
        "61b9b227c2834e39843300c5fda47a13": {
          "model_module": "@jupyter-widgets/base",
          "model_name": "LayoutModel",
          "model_module_version": "1.2.0",
          "state": {
            "_model_module": "@jupyter-widgets/base",
            "_model_module_version": "1.2.0",
            "_model_name": "LayoutModel",
            "_view_count": null,
            "_view_module": "@jupyter-widgets/base",
            "_view_module_version": "1.2.0",
            "_view_name": "LayoutView",
            "align_content": null,
            "align_items": null,
            "align_self": null,
            "border": null,
            "bottom": null,
            "display": null,
            "flex": null,
            "flex_flow": null,
            "grid_area": null,
            "grid_auto_columns": null,
            "grid_auto_flow": null,
            "grid_auto_rows": null,
            "grid_column": null,
            "grid_gap": null,
            "grid_row": null,
            "grid_template_areas": null,
            "grid_template_columns": null,
            "grid_template_rows": null,
            "height": null,
            "justify_content": null,
            "justify_items": null,
            "left": null,
            "margin": null,
            "max_height": null,
            "max_width": null,
            "min_height": null,
            "min_width": null,
            "object_fit": null,
            "object_position": null,
            "order": null,
            "overflow": null,
            "overflow_x": null,
            "overflow_y": null,
            "padding": null,
            "right": null,
            "top": null,
            "visibility": null,
            "width": null
          }
        },
        "4041143c2b3447daaac42c8a21674af3": {
          "model_module": "@jupyter-widgets/controls",
          "model_name": "CheckboxModel",
          "model_module_version": "1.5.0",
          "state": {
            "_dom_classes": [],
            "_model_module": "@jupyter-widgets/controls",
            "_model_module_version": "1.5.0",
            "_model_name": "CheckboxModel",
            "_view_count": null,
            "_view_module": "@jupyter-widgets/controls",
            "_view_module_version": "1.5.0",
            "_view_name": "CheckboxView",
            "description": "Real-time",
            "description_tooltip": null,
            "disabled": false,
            "indent": true,
            "layout": "IPY_MODEL_6f92dc173b8346f385d73fe7006384b7",
            "style": "IPY_MODEL_8b128e5f4187408da0ba4da35a853224",
            "value": true
          }
        },
        "2902ccdfada14f51a6afcee186e76bc6": {
          "model_module": "@jupyter-widgets/controls",
          "model_name": "ButtonModel",
          "model_module_version": "1.5.0",
          "state": {
            "_dom_classes": [],
            "_model_module": "@jupyter-widgets/controls",
            "_model_module_version": "1.5.0",
            "_model_name": "ButtonModel",
            "_view_count": null,
            "_view_module": "@jupyter-widgets/controls",
            "_view_module_version": "1.5.0",
            "_view_name": "ButtonView",
            "button_style": "",
            "description": "Reset to defaults",
            "disabled": false,
            "icon": "",
            "layout": "IPY_MODEL_6a11b21787674631a28c689e454bff84",
            "style": "IPY_MODEL_15f3a07075024f77a87c143326c00ed7",
            "tooltip": ""
          }
        },
        "305830f0eed748e5ab9175d8a02a158f": {
          "model_module": "@jupyter-widgets/controls",
          "model_name": "ToggleButtonModel",
          "model_module_version": "1.5.0",
          "state": {
            "_dom_classes": [],
            "_model_module": "@jupyter-widgets/controls",
            "_model_module_version": "1.5.0",
            "_model_name": "ToggleButtonModel",
            "_view_count": null,
            "_view_module": "@jupyter-widgets/controls",
            "_view_module_version": "1.5.0",
            "_view_name": "ToggleButtonView",
            "button_style": "",
            "description": "Update",
            "description_tooltip": null,
            "disabled": false,
            "icon": "",
            "layout": "IPY_MODEL_a0531203e7264c1f867b0d2f12605f6f",
            "style": "IPY_MODEL_13646c18fec043179448663dae4f55c4",
            "tooltip": "",
            "value": false
          }
        },
        "b8fc6977479f40be8e5d8a356e927e96": {
          "model_module": "@jupyter-widgets/base",
          "model_name": "LayoutModel",
          "model_module_version": "1.2.0",
          "state": {
            "_model_module": "@jupyter-widgets/base",
            "_model_module_version": "1.2.0",
            "_model_name": "LayoutModel",
            "_view_count": null,
            "_view_module": "@jupyter-widgets/base",
            "_view_module_version": "1.2.0",
            "_view_name": "LayoutView",
            "align_content": null,
            "align_items": null,
            "align_self": null,
            "border": null,
            "bottom": null,
            "display": null,
            "flex": null,
            "flex_flow": null,
            "grid_area": null,
            "grid_auto_columns": null,
            "grid_auto_flow": null,
            "grid_auto_rows": null,
            "grid_column": null,
            "grid_gap": null,
            "grid_row": null,
            "grid_template_areas": null,
            "grid_template_columns": null,
            "grid_template_rows": null,
            "height": null,
            "justify_content": null,
            "justify_items": null,
            "left": null,
            "margin": null,
            "max_height": null,
            "max_width": null,
            "min_height": null,
            "min_width": null,
            "object_fit": null,
            "object_position": null,
            "order": null,
            "overflow": null,
            "overflow_x": null,
            "overflow_y": null,
            "padding": null,
            "right": null,
            "top": null,
            "visibility": null,
            "width": null
          }
        },
        "036d525d16354b57a7344f6d3d7f0626": {
          "model_module": "@jupyter-widgets/base",
          "model_name": "LayoutModel",
          "model_module_version": "1.2.0",
          "state": {
            "_model_module": "@jupyter-widgets/base",
            "_model_module_version": "1.2.0",
            "_model_name": "LayoutModel",
            "_view_count": null,
            "_view_module": "@jupyter-widgets/base",
            "_view_module_version": "1.2.0",
            "_view_name": "LayoutView",
            "align_content": null,
            "align_items": null,
            "align_self": null,
            "border": null,
            "bottom": null,
            "display": null,
            "flex": null,
            "flex_flow": null,
            "grid_area": null,
            "grid_auto_columns": null,
            "grid_auto_flow": null,
            "grid_auto_rows": null,
            "grid_column": null,
            "grid_gap": null,
            "grid_row": null,
            "grid_template_areas": null,
            "grid_template_columns": null,
            "grid_template_rows": null,
            "height": null,
            "justify_content": null,
            "justify_items": null,
            "left": null,
            "margin": null,
            "max_height": null,
            "max_width": null,
            "min_height": null,
            "min_width": null,
            "object_fit": null,
            "object_position": null,
            "order": null,
            "overflow": null,
            "overflow_x": null,
            "overflow_y": null,
            "padding": null,
            "right": null,
            "top": null,
            "visibility": null,
            "width": null
          }
        },
        "fab060d1e0ac416d8ba4c2c6be85def6": {
          "model_module": "@jupyter-widgets/controls",
          "model_name": "SliderStyleModel",
          "model_module_version": "1.5.0",
          "state": {
            "_model_module": "@jupyter-widgets/controls",
            "_model_module_version": "1.5.0",
            "_model_name": "SliderStyleModel",
            "_view_count": null,
            "_view_module": "@jupyter-widgets/base",
            "_view_module_version": "1.2.0",
            "_view_name": "StyleView",
            "description_width": "",
            "handle_color": null
          }
        },
        "26c1f901bc384bcfa1b6e1885a7ead8c": {
          "model_module": "@jupyter-widgets/base",
          "model_name": "LayoutModel",
          "model_module_version": "1.2.0",
          "state": {
            "_model_module": "@jupyter-widgets/base",
            "_model_module_version": "1.2.0",
            "_model_name": "LayoutModel",
            "_view_count": null,
            "_view_module": "@jupyter-widgets/base",
            "_view_module_version": "1.2.0",
            "_view_name": "LayoutView",
            "align_content": null,
            "align_items": null,
            "align_self": null,
            "border": null,
            "bottom": null,
            "display": null,
            "flex": null,
            "flex_flow": null,
            "grid_area": null,
            "grid_auto_columns": null,
            "grid_auto_flow": null,
            "grid_auto_rows": null,
            "grid_column": null,
            "grid_gap": null,
            "grid_row": null,
            "grid_template_areas": null,
            "grid_template_columns": null,
            "grid_template_rows": null,
            "height": null,
            "justify_content": null,
            "justify_items": null,
            "left": null,
            "margin": null,
            "max_height": null,
            "max_width": null,
            "min_height": null,
            "min_width": null,
            "object_fit": null,
            "object_position": null,
            "order": null,
            "overflow": null,
            "overflow_x": null,
            "overflow_y": null,
            "padding": null,
            "right": null,
            "top": null,
            "visibility": null,
            "width": null
          }
        },
        "d053fa462e0b497ab80c7eee48e7d4c7": {
          "model_module": "@jupyter-widgets/controls",
          "model_name": "SliderStyleModel",
          "model_module_version": "1.5.0",
          "state": {
            "_model_module": "@jupyter-widgets/controls",
            "_model_module_version": "1.5.0",
            "_model_name": "SliderStyleModel",
            "_view_count": null,
            "_view_module": "@jupyter-widgets/base",
            "_view_module_version": "1.2.0",
            "_view_name": "StyleView",
            "description_width": "",
            "handle_color": null
          }
        },
        "8c3dace3bfc94130ba85051c09f68d7d": {
          "model_module": "@jupyter-widgets/base",
          "model_name": "LayoutModel",
          "model_module_version": "1.2.0",
          "state": {
            "_model_module": "@jupyter-widgets/base",
            "_model_module_version": "1.2.0",
            "_model_name": "LayoutModel",
            "_view_count": null,
            "_view_module": "@jupyter-widgets/base",
            "_view_module_version": "1.2.0",
            "_view_name": "LayoutView",
            "align_content": null,
            "align_items": null,
            "align_self": null,
            "border": null,
            "bottom": null,
            "display": null,
            "flex": null,
            "flex_flow": null,
            "grid_area": null,
            "grid_auto_columns": null,
            "grid_auto_flow": null,
            "grid_auto_rows": null,
            "grid_column": null,
            "grid_gap": null,
            "grid_row": null,
            "grid_template_areas": null,
            "grid_template_columns": null,
            "grid_template_rows": null,
            "height": null,
            "justify_content": null,
            "justify_items": null,
            "left": null,
            "margin": null,
            "max_height": null,
            "max_width": null,
            "min_height": null,
            "min_width": null,
            "object_fit": null,
            "object_position": null,
            "order": null,
            "overflow": null,
            "overflow_x": null,
            "overflow_y": null,
            "padding": null,
            "right": null,
            "top": null,
            "visibility": null,
            "width": null
          }
        },
        "f942bf8b3ecb4cb8954ba9750a4c929b": {
          "model_module": "@jupyter-widgets/controls",
          "model_name": "SliderStyleModel",
          "model_module_version": "1.5.0",
          "state": {
            "_model_module": "@jupyter-widgets/controls",
            "_model_module_version": "1.5.0",
            "_model_name": "SliderStyleModel",
            "_view_count": null,
            "_view_module": "@jupyter-widgets/base",
            "_view_module_version": "1.2.0",
            "_view_name": "StyleView",
            "description_width": "",
            "handle_color": null
          }
        },
        "2cf03339ec0144dabb44e6bbd810edfc": {
          "model_module": "@jupyter-widgets/base",
          "model_name": "LayoutModel",
          "model_module_version": "1.2.0",
          "state": {
            "_model_module": "@jupyter-widgets/base",
            "_model_module_version": "1.2.0",
            "_model_name": "LayoutModel",
            "_view_count": null,
            "_view_module": "@jupyter-widgets/base",
            "_view_module_version": "1.2.0",
            "_view_name": "LayoutView",
            "align_content": null,
            "align_items": null,
            "align_self": null,
            "border": null,
            "bottom": null,
            "display": null,
            "flex": null,
            "flex_flow": null,
            "grid_area": null,
            "grid_auto_columns": null,
            "grid_auto_flow": null,
            "grid_auto_rows": null,
            "grid_column": null,
            "grid_gap": null,
            "grid_row": null,
            "grid_template_areas": null,
            "grid_template_columns": null,
            "grid_template_rows": null,
            "height": null,
            "justify_content": null,
            "justify_items": null,
            "left": null,
            "margin": null,
            "max_height": null,
            "max_width": null,
            "min_height": null,
            "min_width": null,
            "object_fit": null,
            "object_position": null,
            "order": null,
            "overflow": null,
            "overflow_x": null,
            "overflow_y": null,
            "padding": null,
            "right": null,
            "top": null,
            "visibility": null,
            "width": null
          }
        },
        "395c96305ebf47a7a496ae7ddf0cf862": {
          "model_module": "@jupyter-widgets/controls",
          "model_name": "SliderStyleModel",
          "model_module_version": "1.5.0",
          "state": {
            "_model_module": "@jupyter-widgets/controls",
            "_model_module_version": "1.5.0",
            "_model_name": "SliderStyleModel",
            "_view_count": null,
            "_view_module": "@jupyter-widgets/base",
            "_view_module_version": "1.2.0",
            "_view_name": "StyleView",
            "description_width": "",
            "handle_color": null
          }
        },
        "416d496a44c942279b2c9898f7750264": {
          "model_module": "@jupyter-widgets/base",
          "model_name": "LayoutModel",
          "model_module_version": "1.2.0",
          "state": {
            "_model_module": "@jupyter-widgets/base",
            "_model_module_version": "1.2.0",
            "_model_name": "LayoutModel",
            "_view_count": null,
            "_view_module": "@jupyter-widgets/base",
            "_view_module_version": "1.2.0",
            "_view_name": "LayoutView",
            "align_content": null,
            "align_items": null,
            "align_self": null,
            "border": null,
            "bottom": null,
            "display": null,
            "flex": null,
            "flex_flow": null,
            "grid_area": null,
            "grid_auto_columns": null,
            "grid_auto_flow": null,
            "grid_auto_rows": null,
            "grid_column": null,
            "grid_gap": null,
            "grid_row": null,
            "grid_template_areas": null,
            "grid_template_columns": null,
            "grid_template_rows": null,
            "height": null,
            "justify_content": null,
            "justify_items": null,
            "left": null,
            "margin": null,
            "max_height": null,
            "max_width": null,
            "min_height": null,
            "min_width": null,
            "object_fit": null,
            "object_position": null,
            "order": null,
            "overflow": null,
            "overflow_x": null,
            "overflow_y": null,
            "padding": null,
            "right": null,
            "top": null,
            "visibility": null,
            "width": null
          }
        },
        "a802de7cd2434f0ca8ee8780aadca6c9": {
          "model_module": "@jupyter-widgets/controls",
          "model_name": "DescriptionStyleModel",
          "model_module_version": "1.5.0",
          "state": {
            "_model_module": "@jupyter-widgets/controls",
            "_model_module_version": "1.5.0",
            "_model_name": "DescriptionStyleModel",
            "_view_count": null,
            "_view_module": "@jupyter-widgets/base",
            "_view_module_version": "1.2.0",
            "_view_name": "StyleView",
            "description_width": ""
          }
        },
        "6f92dc173b8346f385d73fe7006384b7": {
          "model_module": "@jupyter-widgets/base",
          "model_name": "LayoutModel",
          "model_module_version": "1.2.0",
          "state": {
            "_model_module": "@jupyter-widgets/base",
            "_model_module_version": "1.2.0",
            "_model_name": "LayoutModel",
            "_view_count": null,
            "_view_module": "@jupyter-widgets/base",
            "_view_module_version": "1.2.0",
            "_view_name": "LayoutView",
            "align_content": null,
            "align_items": null,
            "align_self": null,
            "border": null,
            "bottom": null,
            "display": null,
            "flex": null,
            "flex_flow": null,
            "grid_area": null,
            "grid_auto_columns": null,
            "grid_auto_flow": null,
            "grid_auto_rows": null,
            "grid_column": null,
            "grid_gap": null,
            "grid_row": null,
            "grid_template_areas": null,
            "grid_template_columns": null,
            "grid_template_rows": null,
            "height": null,
            "justify_content": null,
            "justify_items": null,
            "left": null,
            "margin": null,
            "max_height": null,
            "max_width": null,
            "min_height": null,
            "min_width": null,
            "object_fit": null,
            "object_position": null,
            "order": null,
            "overflow": null,
            "overflow_x": null,
            "overflow_y": null,
            "padding": null,
            "right": null,
            "top": null,
            "visibility": null,
            "width": null
          }
        },
        "8b128e5f4187408da0ba4da35a853224": {
          "model_module": "@jupyter-widgets/controls",
          "model_name": "DescriptionStyleModel",
          "model_module_version": "1.5.0",
          "state": {
            "_model_module": "@jupyter-widgets/controls",
            "_model_module_version": "1.5.0",
            "_model_name": "DescriptionStyleModel",
            "_view_count": null,
            "_view_module": "@jupyter-widgets/base",
            "_view_module_version": "1.2.0",
            "_view_name": "StyleView",
            "description_width": ""
          }
        },
        "6a11b21787674631a28c689e454bff84": {
          "model_module": "@jupyter-widgets/base",
          "model_name": "LayoutModel",
          "model_module_version": "1.2.0",
          "state": {
            "_model_module": "@jupyter-widgets/base",
            "_model_module_version": "1.2.0",
            "_model_name": "LayoutModel",
            "_view_count": null,
            "_view_module": "@jupyter-widgets/base",
            "_view_module_version": "1.2.0",
            "_view_name": "LayoutView",
            "align_content": null,
            "align_items": null,
            "align_self": null,
            "border": null,
            "bottom": null,
            "display": null,
            "flex": null,
            "flex_flow": null,
            "grid_area": null,
            "grid_auto_columns": null,
            "grid_auto_flow": null,
            "grid_auto_rows": null,
            "grid_column": null,
            "grid_gap": null,
            "grid_row": null,
            "grid_template_areas": null,
            "grid_template_columns": null,
            "grid_template_rows": null,
            "height": null,
            "justify_content": null,
            "justify_items": null,
            "left": null,
            "margin": null,
            "max_height": null,
            "max_width": null,
            "min_height": null,
            "min_width": null,
            "object_fit": null,
            "object_position": null,
            "order": null,
            "overflow": null,
            "overflow_x": null,
            "overflow_y": null,
            "padding": null,
            "right": null,
            "top": null,
            "visibility": null,
            "width": null
          }
        },
        "15f3a07075024f77a87c143326c00ed7": {
          "model_module": "@jupyter-widgets/controls",
          "model_name": "ButtonStyleModel",
          "model_module_version": "1.5.0",
          "state": {
            "_model_module": "@jupyter-widgets/controls",
            "_model_module_version": "1.5.0",
            "_model_name": "ButtonStyleModel",
            "_view_count": null,
            "_view_module": "@jupyter-widgets/base",
            "_view_module_version": "1.2.0",
            "_view_name": "StyleView",
            "button_color": null,
            "font_weight": ""
          }
        },
        "a0531203e7264c1f867b0d2f12605f6f": {
          "model_module": "@jupyter-widgets/base",
          "model_name": "LayoutModel",
          "model_module_version": "1.2.0",
          "state": {
            "_model_module": "@jupyter-widgets/base",
            "_model_module_version": "1.2.0",
            "_model_name": "LayoutModel",
            "_view_count": null,
            "_view_module": "@jupyter-widgets/base",
            "_view_module_version": "1.2.0",
            "_view_name": "LayoutView",
            "align_content": null,
            "align_items": null,
            "align_self": null,
            "border": null,
            "bottom": null,
            "display": null,
            "flex": null,
            "flex_flow": null,
            "grid_area": null,
            "grid_auto_columns": null,
            "grid_auto_flow": null,
            "grid_auto_rows": null,
            "grid_column": null,
            "grid_gap": null,
            "grid_row": null,
            "grid_template_areas": null,
            "grid_template_columns": null,
            "grid_template_rows": null,
            "height": null,
            "justify_content": null,
            "justify_items": null,
            "left": null,
            "margin": null,
            "max_height": null,
            "max_width": null,
            "min_height": null,
            "min_width": null,
            "object_fit": null,
            "object_position": null,
            "order": null,
            "overflow": null,
            "overflow_x": null,
            "overflow_y": null,
            "padding": null,
            "right": null,
            "top": null,
            "visibility": null,
            "width": null
          }
        },
        "13646c18fec043179448663dae4f55c4": {
          "model_module": "@jupyter-widgets/controls",
          "model_name": "DescriptionStyleModel",
          "model_module_version": "1.5.0",
          "state": {
            "_model_module": "@jupyter-widgets/controls",
            "_model_module_version": "1.5.0",
            "_model_name": "DescriptionStyleModel",
            "_view_count": null,
            "_view_module": "@jupyter-widgets/base",
            "_view_module_version": "1.2.0",
            "_view_name": "StyleView",
            "description_width": ""
          }
        },
        "1e47df7024d147b68b9086f47e543929": {
          "model_module": "@jupyter-widgets/output",
          "model_name": "OutputModel",
          "model_module_version": "1.0.0",
          "state": {
            "_dom_classes": [],
            "_model_module": "@jupyter-widgets/output",
            "_model_module_version": "1.0.0",
            "_model_name": "OutputModel",
            "_view_count": null,
            "_view_module": "@jupyter-widgets/output",
            "_view_module_version": "1.0.0",
            "_view_name": "OutputView",
            "layout": "IPY_MODEL_544c9b0e638b45febbc578238e3b7e26",
            "msg_id": "",
            "outputs": [
              {
                "output_type": "display_data",
                "data": {
                  "text/plain": "<Figure size 640x480 with 2 Axes>",
                  "image/png": "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\n"
                },
                "metadata": {}
              }
            ]
          }
        },
        "544c9b0e638b45febbc578238e3b7e26": {
          "model_module": "@jupyter-widgets/base",
          "model_name": "LayoutModel",
          "model_module_version": "1.2.0",
          "state": {
            "_model_module": "@jupyter-widgets/base",
            "_model_module_version": "1.2.0",
            "_model_name": "LayoutModel",
            "_view_count": null,
            "_view_module": "@jupyter-widgets/base",
            "_view_module_version": "1.2.0",
            "_view_name": "LayoutView",
            "align_content": null,
            "align_items": null,
            "align_self": null,
            "border": null,
            "bottom": null,
            "display": null,
            "flex": null,
            "flex_flow": null,
            "grid_area": null,
            "grid_auto_columns": null,
            "grid_auto_flow": null,
            "grid_auto_rows": null,
            "grid_column": null,
            "grid_gap": null,
            "grid_row": null,
            "grid_template_areas": null,
            "grid_template_columns": null,
            "grid_template_rows": null,
            "height": null,
            "justify_content": null,
            "justify_items": null,
            "left": null,
            "margin": null,
            "max_height": null,
            "max_width": null,
            "min_height": null,
            "min_width": null,
            "object_fit": null,
            "object_position": null,
            "order": null,
            "overflow": null,
            "overflow_x": null,
            "overflow_y": null,
            "padding": null,
            "right": null,
            "top": null,
            "visibility": null,
            "width": null
          }
        }
      }
    }
  },
  "cells": [
    {
      "cell_type": "markdown",
      "source": [
        "#DDM for Dataset 6"
      ],
      "metadata": {
        "id": "nbWTmwNxtZZL"
      }
    },
    {
      "cell_type": "markdown",
      "source": [
        "##Importing the libaries and loading the provided dataset"
      ],
      "metadata": {
        "id": "KM02PbfwtuML"
      }
    },
    {
      "cell_type": "code",
      "execution_count": null,
      "metadata": {
        "id": "Mu_LIw-fLjx_",
        "colab": {
          "base_uri": "https://localhost:8080/"
        },
        "outputId": "17e1ed2e-02bc-40ad-edfa-b6f57d48f605"
      },
      "outputs": [
        {
          "output_type": "stream",
          "name": "stdout",
          "text": [
            "\u001b[?25l   \u001b[90m━━━━━━━━━━━━━━━━━━━━━━━━━━━━━━━━━━━━━━━━\u001b[0m \u001b[32m0.0/117.6 kB\u001b[0m \u001b[31m?\u001b[0m eta \u001b[36m-:--:--\u001b[0m\r\u001b[2K   \u001b[90m━━━━━━━━━━━━━━━━━━━━━━━━━━━━━━━━━━━━━━━━\u001b[0m \u001b[32m117.6/117.6 kB\u001b[0m \u001b[31m3.6 MB/s\u001b[0m eta \u001b[36m0:00:00\u001b[0m\n",
            "\u001b[?25h"
          ]
        }
      ],
      "source": [
        "# If running through Google Colab, run this cell to install pyddm\n",
        "!pip -q install pyddm"
      ]
    },
    {
      "cell_type": "code",
      "source": [
        "# Import libraries\n",
        "import pandas as pd\n",
        "import matplotlib.pyplot as plt\n",
        "import numpy as np\n",
        "import pyddm\n",
        "import pyddm.plot\n"
      ],
      "metadata": {
        "id": "uNXlPHdKhRzo"
      },
      "execution_count": null,
      "outputs": []
    },
    {
      "cell_type": "code",
      "source": [
        "# Load the dataset\n",
        "file_path = \"https://raw.githubusercontent.com/slcalame/Files/refs/heads/main/dataset-6%20-%20Copy.tsv\"\n",
        "df_rt = pd.read_csv(file_path, sep='\\t')\n",
        "\n",
        "# Convert the columns to data types\n",
        "df_rt[\"correct\"] = (df_rt[\"S\"] == df_rt[\"R\"]).astype(int) # Create the \"correct\" column; 1 for correct, 0 for incorrect\n",
        "df_rt[\"distractor\"] = df_rt[\"distractor\"].astype(str)\n",
        "df_rt[\"rt\"] = df_rt[\"rt\"].astype(float)\n",
        "df_rt[\"correct\"] = df_rt[\"correct\"].astype(int)\n",
        "#print(df_rt)\n",
        "\n",
        "# Create a PyDDM Sample\n",
        "sample = pyddm.Sample.from_pandas_dataframe(\n",
        "    df_rt,\n",
        "    rt_column_name=\"rt\", # Column with reaction times\n",
        "    correct_column_name=\"correct\", # Column indicating whether the response was correct or incorrect\n",
        ")\n",
        "\n",
        "# Inspect the sample to ensure it's properly formatted\n",
        "#print(sample)"
      ],
      "metadata": {
        "colab": {
          "base_uri": "https://localhost:8080/"
        },
        "id": "IPbTp6qwhyGH",
        "outputId": "6d7c4656-319f-4830-efbb-b26228c29021"
      },
      "execution_count": null,
      "outputs": [
        {
          "output_type": "stream",
          "name": "stderr",
          "text": [
            "Warning: This function (from_pandas_dataframe()) is deprecated and will be removed in a future version of PyDDM.  Please use the choice_column_name argument instead.\n",
            "Warning:pyddm:This function (from_pandas_dataframe()) is deprecated and will be removed in a future version of PyDDM.  Please use the choice_column_name argument instead.\n"
          ]
        }
      ]
    },
    {
      "cell_type": "markdown",
      "source": [
        "###Define the componentes of the model with the custom drift class and visualise the model"
      ],
      "metadata": {
        "id": "5VDjy-FfbzR2"
      }
    },
    {
      "cell_type": "code",
      "source": [
        "# Define the model components\n",
        "m = pyddm.Model(\n",
        "    drift=pyddm.DriftConstant(drift=pyddm.Fittable(minval=-5, maxval=5)),\n",
        "    noise=pyddm.NoiseConstant(noise=pyddm.Fittable(minval=.1, maxval=2)),\n",
        "    overlay=pyddm.OverlayNonDecision(nondectime=pyddm.Fittable(minval=0, maxval=.5)))\n",
        "\n",
        "# Visualize the model\n",
        "pyddm.plot.model_gui_jupyter(model=m, sample=sample)"
      ],
      "metadata": {
        "id": "0z2GBT9FinFK",
        "colab": {
          "base_uri": "https://localhost:8080/",
          "height": 602,
          "referenced_widgets": [
            "f62fb47ee05d421a96849c25773f18fa",
            "40a6624ef6d34e0d8e20b39e11773854",
            "ff3bcb4e6784467dbaad0cda830659ea",
            "68be07af470d48838ff91a2ab348af91",
            "351badddee45462385f96d23cf62df1b",
            "c069747025d4416cba598e617659297a",
            "d960bd58f7824b54ba062aa61bd61b2b",
            "e1fffc92d8e84768ae872a9d57993885",
            "55abff06c9104d998a55e38a73fb11cb",
            "79a35d986a52425e968cb5bbbbcde53a",
            "3a959cbbeaae4583baf00ee278d3e88c",
            "33c30d5ff54a410890c14471bf53ee04",
            "86b1d828e3334470ad4d399ee25d71c2",
            "e8a3c409ff9d4ad8b06a5633cea88837",
            "44ff50770ea546ac855b295f6fa8653d",
            "d751d2f97de849938a3530954c844f92",
            "1e473c4ba8fc4c99b80414a3d424d47a",
            "31f34119799e4abeaceec52e829893f0",
            "a9944653650b435498025054f093dc24",
            "5b45d8ca346f43c3b499c0f793f4a7d7",
            "11f8032ec8834664a4ea413938a69df7",
            "f0eceafa4b2f46a28c42364953bca40f",
            "685898361ea14b07af53119241f88fc2",
            "112a92e6801b4985850d50c978bf0eb5",
            "3d4a656b9b2c4087bd2726df7290717f",
            "81b1b25de6d34fcab8660557604d0ca5",
            "ec1423b81f564df3bad03c89a815e26c",
            "1dd7a437d88e43129b1a4f71278ba152"
          ]
        },
        "outputId": "4423481d-6072-4c05-df27-cfa61a3eb108"
      },
      "execution_count": null,
      "outputs": [
        {
          "output_type": "display_data",
          "data": {
            "text/plain": [
              "HBox(children=(VBox(children=(FloatSlider(value=-3.775304678804141, continuous_update=False, description='drif…"
            ],
            "application/vnd.jupyter.widget-view+json": {
              "version_major": 2,
              "version_minor": 0,
              "model_id": "f62fb47ee05d421a96849c25773f18fa"
            }
          },
          "metadata": {}
        },
        {
          "output_type": "display_data",
          "data": {
            "text/plain": [
              "Output()"
            ],
            "application/vnd.jupyter.widget-view+json": {
              "version_major": 2,
              "version_minor": 0,
              "model_id": "ec1423b81f564df3bad03c89a815e26c"
            }
          },
          "metadata": {}
        }
      ]
    },
    {
      "cell_type": "markdown",
      "source": [
        "###Fit the model and show information of the model fit"
      ],
      "metadata": {
        "id": "u_j8kbNBvakK"
      }
    },
    {
      "cell_type": "code",
      "source": [
        "# Fit the model\n",
        "pyddm.fit_adjust_model(model=m, sample=sample, lossfunction=pyddm.LossRobustLikelihood, verbose=False)\n",
        "\n",
        "# Show information of the model fit\n",
        "pyddm.display_model(m)"
      ],
      "metadata": {
        "colab": {
          "base_uri": "https://localhost:8080/"
        },
        "id": "98va5LVcn5hg",
        "outputId": "e86ec7e5-49ff-43d9-d669-d7a19f0fd872"
      },
      "execution_count": null,
      "outputs": [
        {
          "output_type": "stream",
          "name": "stderr",
          "text": [
            "Info: Params [2.91010608 1.63394528 0.06737727] gave -816.3653758447874\n",
            "Info:pyddm:Params [2.91010608 1.63394528 0.06737727] gave -816.3653758447874\n"
          ]
        },
        {
          "output_type": "stream",
          "name": "stdout",
          "text": [
            "Model information:\n",
            "Choices: 'correct' (upper boundary), 'error' (lower boundary)\n",
            "Drift component DriftConstant:\n",
            "    constant\n",
            "    Fitted parameters:\n",
            "    - drift: 2.910106\n",
            "Noise component NoiseConstant:\n",
            "    constant\n",
            "    Fitted parameters:\n",
            "    - noise: 1.633945\n",
            "Bound component BoundConstant:\n",
            "    constant\n",
            "    Fixed parameters:\n",
            "    - B: 1.000000\n",
            "IC component ICPointSourceCenter:\n",
            "    point_source_center\n",
            "    (No parameters)\n",
            "Overlay component OverlayNonDecision:\n",
            "    Add a non-decision by shifting the histogram\n",
            "    Fitted parameters:\n",
            "    - nondectime: 0.067377\n",
            "Fit information:\n",
            "    Loss function: Negative log likelihood\n",
            "    Loss function value: -816.3653758447874\n",
            "    Fitting method: differential_evolution\n",
            "    Solver: auto\n",
            "    Other properties:\n",
            "        - nparams: 3\n",
            "        - samplesize: 5520\n",
            "        - mess: ''\n",
            "\n"
          ]
        }
      ]
    },
    {
      "cell_type": "markdown",
      "source": [
        "##DDM Model Setup"
      ],
      "metadata": {
        "id": "v0mc42H4voSS"
      }
    },
    {
      "cell_type": "code",
      "source": [
        "# Define custom drift class for modeling distractor effects\n",
        "\n",
        "class DriftDistractor(pyddm.Drift):\n",
        "    name = \"Drift depending on distractor presence\"\n",
        "    required_conditions = [\"distractor\"]  # Condition based on distractors\n",
        "    required_parameters = [\"drift_present\", \"drift_absent\"]  # Fittable parameters for the two conditions\n",
        "\n",
        "    def get_drift(self, t, x, conditions, **kwargs):\n",
        "        if conditions[\"distractor\"] == \"present\":\n",
        "            return self.drift_present  # Use drift value for distractors present\n",
        "        else:\n",
        "            return self.drift_absent  # Use drift value for distractors absent"
      ],
      "metadata": {
        "id": "hIcWwFXAoexl"
      },
      "execution_count": null,
      "outputs": []
    },
    {
      "cell_type": "markdown",
      "source": [
        "###Define the componentes of the DDM model with the custom drift class and visualise the model"
      ],
      "metadata": {
        "id": "FFYnRsnAzyEq"
      }
    },
    {
      "cell_type": "code",
      "source": [
        "# Define the DDM model with the custom drift class and with fittable parameters\n",
        "m = pyddm.Model(\n",
        "    drift=DriftDistractor(drift_present=pyddm.Fittable(minval=-5, maxval=5), # Drift rate for trials with a distractor\n",
        "                          drift_absent=pyddm.Fittable(minval=-5, maxval=5)),  # Drift rate for trials without a distractor\n",
        "    noise=pyddm.NoiseConstant(noise=pyddm.Fittable(minval=0.1, maxval=2)), # Noise parameter\n",
        "    overlay=pyddm.OverlayNonDecision(nondectime=pyddm.Fittable(minval=0, maxval=0.5)) # Non-decision time parameter\n",
        ")\n",
        "\n",
        "# Visualise the model\n",
        "pyddm.plot.model_gui_jupyter(model=m, sample=sample)\n"
      ],
      "metadata": {
        "colab": {
          "base_uri": "https://localhost:8080/",
          "height": 634,
          "referenced_widgets": [
            "eef848a06e444ac3a252e5e83eb08cd2",
            "44349ddc86a9441b9fd1396b5a6b2501",
            "f0160a47bcb5461a986a9d4300e81e34",
            "35bbdf01048945cf800e737df45aa481",
            "5958c51352424e9cbb3b236302a86bce",
            "6eba63ec667b44d6b685586a59ed464c",
            "4f3dc83bfc45484b8b3313e769f0e54e",
            "79659633f97e43a790e778b74781e022",
            "9e19ee1864fe4edca4c83494a07dc397",
            "87c77dc19a1c479099d82436d6b8154f",
            "de87e581b4c4408382abceef9ae9ea47",
            "61b9b227c2834e39843300c5fda47a13",
            "4041143c2b3447daaac42c8a21674af3",
            "2902ccdfada14f51a6afcee186e76bc6",
            "305830f0eed748e5ab9175d8a02a158f",
            "b8fc6977479f40be8e5d8a356e927e96",
            "036d525d16354b57a7344f6d3d7f0626",
            "fab060d1e0ac416d8ba4c2c6be85def6",
            "26c1f901bc384bcfa1b6e1885a7ead8c",
            "d053fa462e0b497ab80c7eee48e7d4c7",
            "8c3dace3bfc94130ba85051c09f68d7d",
            "f942bf8b3ecb4cb8954ba9750a4c929b",
            "2cf03339ec0144dabb44e6bbd810edfc",
            "395c96305ebf47a7a496ae7ddf0cf862",
            "416d496a44c942279b2c9898f7750264",
            "a802de7cd2434f0ca8ee8780aadca6c9",
            "6f92dc173b8346f385d73fe7006384b7",
            "8b128e5f4187408da0ba4da35a853224",
            "6a11b21787674631a28c689e454bff84",
            "15f3a07075024f77a87c143326c00ed7",
            "a0531203e7264c1f867b0d2f12605f6f",
            "13646c18fec043179448663dae4f55c4",
            "1e47df7024d147b68b9086f47e543929",
            "544c9b0e638b45febbc578238e3b7e26"
          ]
        },
        "id": "a1a5pZ4Jpd9t",
        "outputId": "7459bc32-84ad-4f78-fddb-175195ca6d26"
      },
      "execution_count": null,
      "outputs": [
        {
          "output_type": "display_data",
          "data": {
            "text/plain": [
              "HBox(children=(VBox(children=(FloatSlider(value=0.8635184224255257, continuous_update=False, description='drif…"
            ],
            "application/vnd.jupyter.widget-view+json": {
              "version_major": 2,
              "version_minor": 0,
              "model_id": "eef848a06e444ac3a252e5e83eb08cd2"
            }
          },
          "metadata": {}
        },
        {
          "output_type": "display_data",
          "data": {
            "text/plain": [
              "Output()"
            ],
            "application/vnd.jupyter.widget-view+json": {
              "version_major": 2,
              "version_minor": 0,
              "model_id": "1e47df7024d147b68b9086f47e543929"
            }
          },
          "metadata": {}
        }
      ]
    },
    {
      "cell_type": "markdown",
      "source": [
        "###Fit the model and show information of the model fit"
      ],
      "metadata": {
        "id": "xbX8B7OQz20o"
      }
    },
    {
      "cell_type": "code",
      "source": [
        "# Fit the model\n",
        "pyddm.fit_adjust_model(model=m, sample=sample, lossfunction=pyddm.LossRobustLikelihood, verbose=False)\n",
        "\n",
        "# Show information of the model fit\n",
        "pyddm.display_model(m)"
      ],
      "metadata": {
        "colab": {
          "base_uri": "https://localhost:8080/"
        },
        "id": "d1bie9TFtHqp",
        "outputId": "f5bf0474-9115-442f-c150-6d116c7723a9"
      },
      "execution_count": null,
      "outputs": [
        {
          "output_type": "stream",
          "name": "stderr",
          "text": [
            "Info: Params [2.65900025 3.18653294 1.63136528 0.06882117] gave -835.7652487732885\n",
            "Info:pyddm:Params [2.65900025 3.18653294 1.63136528 0.06882117] gave -835.7652487732885\n"
          ]
        },
        {
          "output_type": "stream",
          "name": "stdout",
          "text": [
            "Model information:\n",
            "Choices: 'correct' (upper boundary), 'error' (lower boundary)\n",
            "Drift component DriftDistractor:\n",
            "    Drift depending on distractor presence\n",
            "    Fitted parameters:\n",
            "    - drift_present: 2.659000\n",
            "    - drift_absent: 3.186533\n",
            "Noise component NoiseConstant:\n",
            "    constant\n",
            "    Fitted parameters:\n",
            "    - noise: 1.631365\n",
            "Bound component BoundConstant:\n",
            "    constant\n",
            "    Fixed parameters:\n",
            "    - B: 1.000000\n",
            "IC component ICPointSourceCenter:\n",
            "    point_source_center\n",
            "    (No parameters)\n",
            "Overlay component OverlayNonDecision:\n",
            "    Add a non-decision by shifting the histogram\n",
            "    Fitted parameters:\n",
            "    - nondectime: 0.068821\n",
            "Fit information:\n",
            "    Loss function: Negative log likelihood\n",
            "    Loss function value: -835.7652487732885\n",
            "    Fitting method: differential_evolution\n",
            "    Solver: auto\n",
            "    Other properties:\n",
            "        - nparams: 4\n",
            "        - samplesize: 5520\n",
            "        - mess: ''\n",
            "\n"
          ]
        }
      ]
    },
    {
      "cell_type": "markdown",
      "source": [
        "## Data Visualisation\n"
      ],
      "metadata": {
        "id": "rXnvYkIME9ww"
      }
    },
    {
      "cell_type": "markdown",
      "source": [
        "###Histogram of frequency of reaction times in raw data"
      ],
      "metadata": {
        "id": "2IuWQSuKFGmD"
      }
    },
    {
      "cell_type": "code",
      "source": [
        "# Plot the histogram of frequency of reaction times in raw data\n",
        "plt.figure(figsize=(10, 6))\n",
        "plt.hist(df_rt[\"rt\"] * 1000, bins=250, color=\"grey\", edgecolor=\"white\", linewidth=0.3)\n",
        "plt.title(\"Histogram of Reaction Times (Raw Data)\")\n",
        "plt.xlabel(\"Reaction Time (ms)\")\n",
        "plt.ylabel(\"Frequency\")\n",
        "plt.grid(True, color=\"lightgray\", linestyle=\"-\", linewidth=0.5)\n",
        "plt.show()"
      ],
      "metadata": {
        "colab": {
          "base_uri": "https://localhost:8080/",
          "height": 564
        },
        "id": "6MiHY3CpFVwX",
        "outputId": "8ec56c58-a5d6-4235-eda4-36a936227f8c"
      },
      "execution_count": null,
      "outputs": [
        {
          "output_type": "display_data",
          "data": {
            "text/plain": [
              "<Figure size 1000x600 with 1 Axes>"
            ],
            "image/png": "[encoded data removed]"
          },
          "metadata": {}
        }
      ]
    },
    {
      "cell_type": "markdown",
      "source": [
        "###Histogram of frequency of reaction times in data without outliers"
      ],
      "metadata": {
        "id": "sNrBqWKhFXa0"
      }
    },
    {
      "cell_type": "code",
      "source": [
        "# Plot the histogram of reaction times without outliers\n",
        "df_rt = df_rt[(df_rt['rt'] > 0.1) & (df_rt['rt'] < 4.0)]  # Remove outliers\n",
        "\n",
        "plt.figure(figsize=(10, 6))\n",
        "plt.hist(df_rt[\"rt\"] * 1000, bins=300, color=\"grey\", edgecolor=\"white\", linewidth=0.3)\n",
        "plt.title(\"Histogram of Reaction Times (Without Outliers)\")\n",
        "plt.xlabel(\"Reaction Time (ms)\")\n",
        "plt.ylabel(\"Frequency\")\n",
        "plt.grid(True, color=\"lightgray\", linestyle=\"-\", linewidth=0.5)\n",
        "plt.show()"
      ],
      "metadata": {
        "colab": {
          "base_uri": "https://localhost:8080/",
          "height": 564
        },
        "id": "inAMT_ibFelV",
        "outputId": "8df60267-9332-40c8-917f-a0d45cf72f89"
      },
      "execution_count": null,
      "outputs": [
        {
          "output_type": "display_data",
          "data": {
            "text/plain": [
              "<Figure size 1000x600 with 1 Axes>"
            ],
            "image/png": "[encoded data removed]"
          },
          "metadata": {}
        }
      ]
    },
    {
      "cell_type": "markdown",
      "source": [
        "###Histogram and density plot of reaction times for incorrect(0) and correct(1)responses"
      ],
      "metadata": {
        "id": "TJBbwwvLFfrk"
      }
    },
    {
      "cell_type": "code",
      "source": [
        "# Plot the histogram of reaction times for correct (1) and incorrect (0) responses\n",
        "plt.figure(figsize=(10, 6))\n",
        "plt.hist(df_rt[df_rt[\"correct\"] == 1][\"rt\"] * 1000, bins=300, color=\"olive\", edgecolor=\"white\", linewidth=0.5, alpha=0.7, label=\"Correct (1)\")\n",
        "plt.hist(df_rt[df_rt[\"correct\"] == 0][\"rt\"] * 1000, bins=300, color=\"orchid\", edgecolor=\"white\", linewidth=0.5, alpha=0.7, label=\"Incorrect (0)\")\n",
        "plt.title(\"Histogram of Reaction Times for Correct vs Incorrect Responses\")\n",
        "plt.xlabel(\"Reaction Time (ms)\")\n",
        "plt.ylabel(\"Frequency\")\n",
        "plt.legend()\n",
        "plt.grid(True, color=\"lightgray\", linestyle=\"-\", linewidth=0.5)\n",
        "plt.show()\n",
        "\n",
        "\n",
        "# Density plot of reaction times for correct (1) and incorrect (0) responses\n",
        "import seaborn as sns\n",
        "plt.figure(figsize=(10, 6))\n",
        "sns.kdeplot(df_rt[df_rt[\"correct\"] == 1][\"rt\"] * 1000,color=\"olive\", alpha=0.7, label=\"Correct (1)\")\n",
        "sns.kdeplot(df_rt[df_rt[\"correct\"] == 0][\"rt\"] * 1000, color=\"orchid\", alpha=0.7, label=\"Incorrect (0)\")\n",
        "plt.title(\"Density Plot of Reaction Times for Correct vs Incorrect Responses\")\n",
        "plt.xlabel(\"Reaction Time (ms)\")\n",
        "plt.ylabel(\"Density\")\n",
        "plt.legend()\n",
        "plt.grid(True, color=\"lightgray\", linestyle=\"-\", linewidth=0.5)\n",
        "plt.show()"
      ],
      "metadata": {
        "colab": {
          "base_uri": "https://localhost:8080/",
          "height": 1000
        },
        "id": "CQ-NHv6jFwXa",
        "outputId": "435a2479-2780-4b35-db01-72e4cc323e56"
      },
      "execution_count": null,
      "outputs": [
        {
          "output_type": "display_data",
          "data": {
            "text/plain": [
              "<Figure size 1000x600 with 1 Axes>"
            ],
            "image/png": "[encoded data removed]"
          },
          "metadata": {}
        },
        {
          "output_type": "display_data",
          "data": {
            "text/plain": [
              "<Figure size 1000x600 with 1 Axes>"
            ],
            "image/png": "[encoded data removed]"
          },
          "metadata": {}
        }
      ]
    },
    {
      "cell_type": "markdown",
      "source": [
        "###Histogram and density plot of reaction times for condition 1 (distractors) and condition 2 (no distractors)"
      ],
      "metadata": {
        "id": "g9j7m8oAF7cQ"
      }
    },
    {
      "cell_type": "code",
      "source": [
        "# Plot the histogram of reaction times for distractor present (Condition 1) and absent (Condition 2)\n",
        "plt.figure(figsize=(10, 6))\n",
        "plt.hist(df_rt[df_rt[\"distractor\"] == \"present\"][\"rt\"] * 1000, bins=300, color='olive', edgecolor='white', linewidth=0.5, alpha=0.7, label='Distractor Present') # Condition 1: Distractor present\n",
        "plt.hist(df_rt[df_rt[\"distractor\"] == \"absent\"][\"rt\"] * 1000, bins=300, color='orchid', edgecolor='white', linewidth=0.5, alpha=0.7, label='Distractor Absent') # Condition 2: Distractor absent\n",
        "plt.title(\"Histogram of Reaction Times for Distractor vs No Distractor\")\n",
        "plt.xlabel(\"Reaction Time (ms)\")\n",
        "plt.ylabel(\"Frequency\")\n",
        "plt.legend()\n",
        "plt.grid(True, color=\"lightgray\", linestyle=\"-\", linewidth=0.5)\n",
        "plt.show()\n",
        "\n",
        "\n",
        "\n",
        "# Density plot of reaction times for correct (1) and incorrect (0) responses\n",
        "import seaborn as sns\n",
        "plt.figure(figsize=(10, 6))\n",
        "sns.kdeplot(df_rt[df_rt[\"distractor\"] == \"present\"][\"rt\"] * 1000, color='olive', alpha=0.7, label='Distractor Present') # Condition 1: Distractor present\n",
        "sns.kdeplot(df_rt[df_rt[\"distractor\"] == \"absent\"][\"rt\"] * 1000, color='orchid', alpha=0.7, label='Distractor Absent') # Condition 2: Distractor absent\n",
        "plt.title(\"Density Plot of Reaction Times for Distractor vs No Distractor\")\n",
        "plt.xlabel(\"Reaction Time (ms)\")\n",
        "plt.ylabel(\"Density\")\n",
        "plt.legend()\n",
        "plt.grid(True, color=\"lightgray\", linestyle=\"-\", linewidth=0.5)\n",
        "plt.show()"
      ],
      "metadata": {
        "colab": {
          "base_uri": "https://localhost:8080/",
          "height": 1000
        },
        "id": "4y7YNgP6F8r7",
        "outputId": "2055c7bd-fdb7-423e-a76f-a922bf910017"
      },
      "execution_count": null,
      "outputs": [
        {
          "output_type": "display_data",
          "data": {
            "text/plain": [
              "<Figure size 1000x600 with 1 Axes>"
            ],
            "image/png": "[encoded data removed]"
          },
          "metadata": {}
        },
        {
          "output_type": "display_data",
          "data": {
            "text/plain": [
              "<Figure size 1000x600 with 1 Axes>"
            ],
            "image/png": "[encoded data removed]"
          },
          "metadata": {}
        }
      ]
    }
  ]
}